{
 "cells": [
  {
   "cell_type": "markdown",
   "metadata": {},
   "source": [
    "## Planetary Atmospheres: Notes\n",
    "\n",
    "*Paul O. Hayne*\n",
    "\n",
    "### Key Concepts:\n",
    "\n",
    "Understanding the present state of atmospheres comes down to:\n",
    "\n",
    "1. **Conservation of mass and momentum** (structure and dynamics)\n",
    "2. **Conservation of energy** (radiation and climate, chemistry)\n",
    "\n",
    "These conservation principles are expressed in nature through a tendency toward *equilibrium*: the state of rest or balance. Ahhh...  We encounter different types of equilibrium in the study of planetary atmospheres:\n",
    "\n",
    "1. Static equilibrium\n",
    "2. Dynamic equilibrium\n",
    "3. Radiative equilibrium\n",
    "4. Chemical equilibrium\n",
    "\n",
    "Understanding the origins and evolution of atmospheres also involves stellar evolution, planet formation, and *interaction with the space environment / loss processes -- rephrase*...\n",
    "\n",
    "* Atmospheric Structure\n",
    "    * Hydrostatic equilibrium\n",
    "    * Adiabatic lapse rate\n",
    "    * Static stability and convection\n",
    "* Radiation and Heating/Cooling\n",
    "    * Insolation and thermal emission (Planck)\n",
    "    * Radiative equilibrium\n",
    "    * Optical depth\n",
    "    * Greenhouse effect\n",
    "* Latent heat and moist adiabat\n",
    "* Vapor pressure equilibrium\n",
    "* Mean free path\n",
    "* Hadley circulation\n",
    "* Geostrophic balance\n",
    "* Vorticity\n",
    "* Rossby waves\n",
    "* Gravity waves (Brunt-Vaisala)\n",
    "* Photodissociation and haze formation\n",
    "* Climate feedbacks\n",
    "\n",
    "### Classification of Planetary Atmospheres:\n",
    "\n",
    "1. Surface-bound exospheres and tenuous/transient atmospheres  \n",
    "    A. Mercury, Moon, Ceres  \n",
    "    C. Icy satellites  \n",
    "    B. Comets  \n",
    "2. Vapor pressure atmospheres  \n",
    "    A. Mars  \n",
    "    B. Pluto, Triton, other KBOs?  \n",
    "3. Terrestrial  \n",
    "    A. Venus  \n",
    "    B. Earth  \n",
    "    C. Exoplanets  \n",
    "4. Gas giant  \n",
    "    A. Jupiter  \n",
    "    B. Saturn  \n",
    "    C. Ice giants: Uranus, Neptune  \n",
    "    D. Exoplanets: hot Jupiters and Neptunes  \n",
    "\n",
    "### Important Length and Time Scales:\n",
    "\n",
    "* Advection\n",
    "* Radiation\n",
    "* Diffusion\n",
    "* Sound/pressure\n",
    "\n",
    "### Conservation Laws:\n",
    "* Mass (continuity)\n",
    "* Energy (heat)\n",
    "* Momentum\n",
    "* Vorticity"
   ]
  },
  {
   "cell_type": "markdown",
   "metadata": {
    "collapsed": true
   },
   "source": [
    "---\n",
    "\n",
    "### Interesting Topics\n",
    "\n",
    "* Lakes on Pluto??"
   ]
  },
  {
   "cell_type": "code",
   "execution_count": null,
   "metadata": {
    "collapsed": true
   },
   "outputs": [],
   "source": []
  }
 ],
 "metadata": {
  "kernelspec": {
   "display_name": "Python [conda root]",
   "language": "python",
   "name": "conda-root-py"
  },
  "language_info": {
   "codemirror_mode": {
    "name": "ipython",
    "version": 3
   },
   "file_extension": ".py",
   "mimetype": "text/x-python",
   "name": "python",
   "nbconvert_exporter": "python",
   "pygments_lexer": "ipython3",
   "version": "3.6.1"
  },
  "varInspector": {
   "cols": {
    "lenName": 16,
    "lenType": 16,
    "lenVar": 40
   },
   "kernels_config": {
    "python": {
     "delete_cmd_postfix": "",
     "delete_cmd_prefix": "del ",
     "library": "var_list.py",
     "varRefreshCmd": "print(var_dic_list())"
    },
    "r": {
     "delete_cmd_postfix": ") ",
     "delete_cmd_prefix": "rm(",
     "library": "var_list.r",
     "varRefreshCmd": "cat(var_dic_list()) "
    }
   },
   "types_to_exclude": [
    "module",
    "function",
    "builtin_function_or_method",
    "instance",
    "_Feature"
   ],
   "window_display": false
  }
 },
 "nbformat": 4,
 "nbformat_minor": 2
}
