{
 "cells": [
  {
   "cell_type": "markdown",
   "metadata": {},
   "source": [
    "### Holding onto an Atmosphere: Thermal (Jeans) Escape\n",
    "\n",
    "The basic idea is that gas molecules with high enough temperature can escape from a planet's gravity well. One way to think about it is that an individual molecule's kinetic energy must exceed the change in potential energy in moving the molecule from radius $R$ to an infinite distance away:\n",
    "\n",
    "\\begin{align}\n",
    "    \\mathrm{(Kinetic~Energy)} &> \\mathrm{(Change~in~Potential~Energy)} \\\\\n",
    "    \\\\\n",
    "    \\frac{1}{2}mv^2 &> \\frac{GMm}{R}\n",
    "\\end{align}\n",
    "\n",
    "When these two quantities are exactly equal, the molecule has achieved the *escape velocity*,\n",
    "\n",
    "\\begin{equation}\n",
    "    v_\\mathrm{esc} = \\sqrt{\\frac{2GM}{R}}\n",
    "\\end{equation}\n",
    "\n",
    "So, any molecule with a velocity $v > v_\\mathrm{esc}$ will have enough energy to fly off to infinity.\n",
    "\n",
    "What determines the velocity of molecules in an atmosphere? Temperature! From statistical mechanics, the velocity distribution of a gas at temperature $T$ is given by the Maxwell-Boltzmann distribution function:\n",
    "\n",
    "\\begin{equation}\n",
    "    f(v) = \\left(\\frac{m}{2\\pi k T}\\right)^{3/2}4\\pi v^2 e^{\\frac{-mv^2}{2kT}}\n",
    "\\end{equation}\n",
    "\n",
    "---\n",
    "\n",
    "Gravitational energy must be overcome by thermal energy:  \n",
    "\n",
    "\\begin{equation}\n",
    "    \\frac{3}{2}kT > \\frac{GMm}{R}\n",
    "\\end{equation}\n",
    "\n",
    "Defining the *escape parameter*,  \n",
    "\n",
    "\\begin{equation}\n",
    "    \\lambda \\equiv \\frac{3}{2}kT\\frac{R}{GMm} = \\frac{3kT}{2mgR},\n",
    "\\end{equation}\n",
    "\n",
    "the criterion is $\\lambda < 1$ to retain the constituent with mass $m$ and temperature $T$."
   ]
  },
  {
   "cell_type": "code",
   "execution_count": 2,
   "metadata": {},
   "outputs": [],
   "source": [
    "import planets\n",
    "import planetThermo\n",
    "import numpy as np\n",
    "import matplotlib.pyplot as plt\n",
    "import prettyPlots as pp\n",
    "\n",
    "pp.setStyle()"
   ]
  },
  {
   "cell_type": "code",
   "execution_count": 3,
   "metadata": {},
   "outputs": [],
   "source": [
    "Moon = planets.Moon\n",
    "Mercury = planets.Mercury\n",
    "Mars = planets.Mars\n",
    "Earth = planets.Earth\n",
    "Venus = planets.Venus"
   ]
  },
  {
   "cell_type": "code",
   "execution_count": 4,
   "metadata": {},
   "outputs": [],
   "source": [
    "G = planets.G\n",
    "k = planetThermo.k_B"
   ]
  },
  {
   "cell_type": "code",
   "execution_count": 5,
   "metadata": {},
   "outputs": [],
   "source": [
    "m_H2O = planetThermo.m_h2o\n",
    "m_H = planetThermo.mp\n",
    "m_CO2 = m_H * 44\n",
    "m_N2 = m_H * 28"
   ]
  },
  {
   "cell_type": "code",
   "execution_count": 6,
   "metadata": {},
   "outputs": [],
   "source": [
    "m = m_H\n",
    "E_Moon = m*Moon.g*Moon.R\n",
    "E_Mercury = m*Mercury.g*Mercury.R\n",
    "E_Venus = m*Venus.g*Venus.R\n",
    "E_Earth = m*Earth.g*Earth.R\n",
    "E_Mars = m*Mars.g*Mars.R\n",
    "lambda_Moon = E_Moon/(k*Moon.Tsavg)\n",
    "lambda_Mercury = E_Mercury/(k*Mercury.Tsavg)\n",
    "lambda_Venus = E_Venus/(k*Venus.Tsavg)\n",
    "lambda_Earth = E_Earth/(k*Earth.Tsavg)\n",
    "lambda_Mars = E_Mars/(k*Mars.Tsavg)"
   ]
  },
  {
   "cell_type": "code",
   "execution_count": 7,
   "metadata": {},
   "outputs": [
    {
     "name": "stdout",
     "output_type": "stream",
     "text": [
      "440.0 737.0 288.0 250.0 210.0\n",
      "1.5098376214e-20 8.97842748316e-20 1.044088068108e-19 4.7076798888e-21 2.103612294e-20\n",
      "2.485389358578717 8.82367817498032 26.257992092307948 1.363903939519669 7.255431961785611\n",
      "[  8.32931173e-02   1.47205914e-04   3.94728904e-12   2.55660742e-01\n",
      "   7.06327207e-04]\n"
     ]
    }
   ],
   "source": [
    "print(Mercury.Tsavg, Venus.Tsavg, Earth.Tsavg, Moon.Tsavg, Mars.Tsavg)\n",
    "print(E_Mercury, E_Venus, E_Earth, E_Moon, E_Mars)\n",
    "print(lambda_Mercury, lambda_Venus, lambda_Earth, lambda_Moon, lambda_Mars)\n",
    "print(np.exp([-lambda_Mercury, -lambda_Venus, -lambda_Earth, -lambda_Moon, -lambda_Mars]))"
   ]
  },
  {
   "cell_type": "code",
   "execution_count": 8,
   "metadata": {},
   "outputs": [],
   "source": [
    "T1 = 300.0\n",
    "T2 = 500.0\n",
    "v = np.linspace(0,8e3,100)\n",
    "f1 = (m_H/(2*np.pi*k*T1))**(3/2) * 4*np.pi*v**2 * np.exp(-m_H*v**2/(2*k*T1))\n",
    "f2 = (m_H/(2*np.pi*k*T2))**(3/2) * 4*np.pi*v**2 * np.exp(-m_H*v**2/(2*k*T2))"
   ]
  },
  {
   "cell_type": "code",
   "execution_count": 11,
   "metadata": {},
   "outputs": [
    {
     "data": {
      "image/png": "[encoded data removed]",
      "text/plain": [
       "<matplotlib.figure.Figure at 0x111846668>"
      ]
     },
     "metadata": {},
     "output_type": "display_data"
    }
   ],
   "source": [
    "plt.plot(v, f1/np.sum(f1), label='$T = 300~$K')\n",
    "plt.plot(v, f2/np.sum(f2), label='$T = 500~$K')\n",
    "plt.legend(frameon=False)\n",
    "plt.ylim([0,1.1*np.max(f1/np.sum(f1))])\n",
    "plt.xlim([0,np.max(v)])\n",
    "plt.xlabel('Velocity (m s$^{-1}$)')\n",
    "plt.ylabel('PDF')\n",
    "#plt.show()\n",
    "plt.savefig('/Users/paha3326/main/Teaching/ASTR3720/hayne/notes/M-B_Distribution1.pdf',bbox_inches='tight')\n",
    "plt.show()"
   ]
  },
  {
   "cell_type": "code",
   "execution_count": 15,
   "metadata": {},
   "outputs": [],
   "source": [
    "p = [1e-9, 9.2e6, 1e5, 660, 1e-20, 1e-10, 1e-20, 1e-7, 1e-6, 1.5e5 ]\n",
    "lam = [1.5, 28.9, 31.4, 7.15, 0.91, 2.05, 3.3e-5, 2.53, 3, 5.0]"
   ]
  },
  {
   "cell_type": "code",
   "execution_count": 17,
   "metadata": {},
   "outputs": [
    {
     "data": {
      "text/plain": [
       "[<matplotlib.lines.Line2D at 0x112e736a0>]"
      ]
     },
     "execution_count": 17,
     "metadata": {},
     "output_type": "execute_result"
    },
    {
     "data": {
      "image/png": "[encoded data removed]",
      "text/plain": [
       "<matplotlib.figure.Figure at 0x1110c65c0>"
      ]
     },
     "metadata": {},
     "output_type": "display_data"
    }
   ],
   "source": [
    "plt.loglog(p, lam, 'o')"
   ]
  },
  {
   "cell_type": "code",
   "execution_count": null,
   "metadata": {},
   "outputs": [],
   "source": []
  }
 ],
 "metadata": {
  "kernelspec": {
   "display_name": "Python 3",
   "language": "python",
   "name": "python3"
  },
  "language_info": {
   "codemirror_mode": {
    "name": "ipython",
    "version": 3
   },
   "file_extension": ".py",
   "mimetype": "text/x-python",
   "name": "python",
   "nbconvert_exporter": "python",
   "pygments_lexer": "ipython3",
   "version": "3.6.3"
  }
 },
 "nbformat": 4,
 "nbformat_minor": 2
}
