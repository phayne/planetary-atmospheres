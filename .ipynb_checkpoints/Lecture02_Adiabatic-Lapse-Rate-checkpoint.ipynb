{
 "cells": [
  {
   "cell_type": "markdown",
   "metadata": {},
   "source": [
    "## Adiabatic Lapse Rate\n",
    "\n",
    "*Paul O. Hayne*\n",
    "\n",
    "Temperature generally decreases with altitude, as we can verify by climbing mountains. We also know that pressure decreases with altitude -- it turns out that these two facts are related, through the laws of thermodynamics. Previously, we quantified the change in pressure with altitude ($dp/dz$), through the hydrostatic equation. Here, we find a similar way to determine the temperature change with altitude, the **lapse rate**, $dT/dz$.\n",
    "\n",
    "Imagine parcel of air, which could be inside a (massless) balloon. You give the balloon a strong nudge upward toward the sky. What happens?\n",
    "\n",
    "First, the balloon must expand to equilibrate itself to the lower air pressure as it rises. This expansion requires the balloon to do mechanical \"work\" on its environment: $p~dV$, where $dV$ is its change in volume. Second, the expanding air inside the balloon must cool, as we know from the ideal gas law (i.e., $T \\sim V$). This change in temperature $dT$ changes the internal energy by an amount $C_V~dT$, where $C_V$ is the heat capacity. Note that $dT$ is negative for a decrease in temperature, when the internal energy decreases.\n",
    "\n",
    "The first law of thermodynamics says that the work done by the balloon in expanding ($p~dV$) and the change in internal energy ($C_V~dT$) must balance any heat added to the balloon ($dQ$):\n",
    "\n",
    "\\begin{alignat}{5}\n",
    "    &\\mathrm{ ~~(Mechanical~work)~~ } &+ &\\mathrm{ ~~(Change~in~internal~energy)~~ } &&= &\\mathrm{ ~~(Heat~added)~~ } \\\\\n",
    "    &~~p~dV~~ &+ &~~C_V~dT~~ &&= &~~dQ~~\n",
    "\\end{alignat}\n",
    "\n",
    "We are looking for the lapse rate $dT/dz$, so we want to replace the volume, $V = V(p,T)$, with some combination of temperature and pressure (Why?). First, we expand the volume differential:\n",
    "\n",
    "\\begin{equation}\n",
    "    dV = \\frac{\\partial V}{\\partial T}dT + \\frac{\\partial V}{\\partial p}dp\n",
    "\\end{equation}\n",
    "\n",
    "Then, we note that the volume (per unit mass) is $V = 1/\\rho$, and use the ideal gas E.O.S. to describe the volume as a function of pressure and temperature:\n",
    "\n",
    "\\begin{equation}\n",
    "    V = \\frac{1}{\\rho} = \\frac{1}{p}\\frac{k_B T}{m}\n",
    "\\end{equation}\n",
    "\n",
    "where $m$ is the mass of one molecule, and $k_B$ is the Boltzmann constant. This allows us to calculate the derivatives\n",
    "\n",
    "\\begin{equation}\n",
    "    \\frac{\\partial V}{\\partial T} = \\frac{1}{p}\\frac{k_B}{m},~~ \\frac{\\partial V}{\\partial p} = -\\frac{1}{p^2}\\frac{k_B T}{m}\n",
    "\\end{equation}\n",
    "\n",
    "such that\n",
    "\n",
    "\\begin{equation}\n",
    "    p~dV = \\frac{k_B}{m}dT - \\frac{1}{p}\\frac{k_B T}{m}dp\n",
    "\\end{equation}\n",
    "\n",
    "and the First Law of Thermodynamics becomes\n",
    "\n",
    "\\begin{equation}\n",
    "    \\left( C_V + \\frac{k_B}{m} \\right)dT - \\frac{1}{p}\\frac{k_B T}{m}dp = dQ\n",
    "\\end{equation}\n",
    "\n",
    "Consider the case where the pressure is held constant, then $dp = 0$, and the first term is equal to the heat added, $dQ$. Therefore, the part of the first term in parentheses must be the heat capacity at constant pressure, $C_p = C_V + \\frac{k_B}{m}$. We also note that the second term is just $V~dp = \\frac{1}{\\rho}dp$. From the hydrostatic equation, we know that $\\frac{1}{\\rho}dp = -g~dz$, where $dz$ is the change in altitude. Our formulation of the First Law now becomes\n",
    "\n",
    "\\begin{equation}\n",
    "    C_p~dT + g~dz = dQ\n",
    "\\end{equation}\n",
    "\n",
    "If no heat is added, then we call the rising balloon **adiabatic**. In this case, $dQ = 0$ and\n",
    "\n",
    "\\begin{equation}\n",
    "   \\frac{dT}{dz} = -\\frac{g}{C_p}\n",
    "\\end{equation}\n",
    "\n",
    "This is the equation for the **adiabatic lapse rate**, which is the rate of temperature change with altitude in a hydrostatic atmosphere when no heat is added. Sometimes it is given the symbol $\\Gamma = g/C_p$. Getting back to our balloon, its internal temperature will follow the adiabatic lapse rate, provided it cannot exchange heat with its surroundings. In effect, the work done by the balloon in expanding and pushing air around it, balances its internal cooling.\n",
    "\n",
    "---"
   ]
  },
  {
   "cell_type": "markdown",
   "metadata": {},
   "source": [
    "### Static stability\n",
    "\n",
    "What happens to the balloon, then? It rises, expands and cools adiabatically, and its temperature goes down according to $dT/dz = -g/C_p$. Will it keep rising, or fall back down? Buoyancy is determined by density contrast; if the balloon is less dense that the air around it, then it will rise. Since we have assumed that the balloon's internal pressure adjusts continuously to match that of its surroundings, the density (hence buoyancy) is determined only by its temperature. Again from the ideal gas law, density is inversely proportional to temperature, $\\rho \\sim 1/T$. This is fairly intuitive, since hot air rises.\n",
    "\n",
    "The question of whether or not the balloon continues to rise, or its **static stability**, depends on whether the surrounding air is warmer (stable) or colder (unstable). If the balloon starts at the same temperature as the surrounding air when we push it upwards, then it will continue to rise if the atmospheric lapse rate is *steeper* than $-g/C_p$. In this case, the adiabatically ascending balloon will be warmer than its surroundings, and will therefore be buoyant. On the other hand, if the atmospheric lapse rate is *less steep* than $-g/C_p$, then the balloon will be negatively buoyant, and fall back down. So, we have the conditions\n",
    "\n",
    "\\begin{align}\n",
    "    \\frac{dT}{dz} &\\geq -\\frac{g}{C_p} ~\\mathrm{~~~~~~(stable)} \\\\\n",
    "    \\frac{dT}{dz} &< -\\frac{g}{C_p} ~\\mathrm{~~~~~~(unstable)}\n",
    "\\end{align}\n",
    "\n",
    "We can apply this static stability criterion equall well to the atmosphere itself, as we did for the balloon. If the atmosphere is statically unstable, it means that a parcel of air rising adiabatically will continue to rise. This leads to convective motion, as the rising warm air is replaced by descending colder air somewhere else. In this way, steep, unstable temperature profiles are rapidly \"destroyed\" in favor of the adiabatic one. It is also possible for an atmosphere to have $dT/dz > -g/C_p$, in which case it is said to be **stably stratified**. On example of stable stratification is an isothermal atmosphere.\n",
    "\n",
    "Note that in the above formulation, we assumed no condensation or evaporation. This is therefore called the **dry adiabat**, in contrast to the **moist adiabat**, which includes the effects of condensing water, or other volatile species. (Would you expect the moist adiabat to be steeper or shallower than the dry one? Why?)"
   ]
  },
  {
   "cell_type": "code",
   "execution_count": null,
   "metadata": {
    "collapsed": true
   },
   "outputs": [],
   "source": []
  }
 ],
 "metadata": {
  "kernelspec": {
   "display_name": "Python [conda root]",
   "language": "python",
   "name": "conda-root-py"
  },
  "language_info": {
   "codemirror_mode": {
    "name": "ipython",
    "version": 3
   },
   "file_extension": ".py",
   "mimetype": "text/x-python",
   "name": "python",
   "nbconvert_exporter": "python",
   "pygments_lexer": "ipython3",
   "version": "3.6.1"
  },
  "varInspector": {
   "cols": {
    "lenName": 16,
    "lenType": 16,
    "lenVar": 40
   },
   "kernels_config": {
    "python": {
     "delete_cmd_postfix": "",
     "delete_cmd_prefix": "del ",
     "library": "var_list.py",
     "varRefreshCmd": "print(var_dic_list())"
    },
    "r": {
     "delete_cmd_postfix": ") ",
     "delete_cmd_prefix": "rm(",
     "library": "var_list.r",
     "varRefreshCmd": "cat(var_dic_list()) "
    }
   },
   "types_to_exclude": [
    "module",
    "function",
    "builtin_function_or_method",
    "instance",
    "_Feature"
   ],
   "window_display": false
  }
 },
 "nbformat": 4,
 "nbformat_minor": 2
}
