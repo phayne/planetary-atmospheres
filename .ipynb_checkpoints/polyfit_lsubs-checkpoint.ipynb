{
 "cells": [
  {
   "cell_type": "code",
   "execution_count": 1,
   "metadata": {},
   "outputs": [],
   "source": [
    "import numpy as np\n",
    "import matplotlib.pyplot as plt"
   ]
  },
  {
   "cell_type": "code",
   "execution_count": 65,
   "metadata": {},
   "outputs": [],
   "source": [
    "n = 3 # degree of polynomial\n",
    "ey = (0,30,60,90,120,150,180,210,240,270,300,330,360) #L_s array\n",
    "ey2 = (0,61.2,126.6,193.3,257.8,317.5,371.9,421.6,468.5,514.6,562.0,612.9,668.6) #Sol array\n",
    "eyf = np.polyfit(ey,ey2,n) #polynomial fit in third degree"
   ]
  },
  {
   "cell_type": "code",
   "execution_count": 66,
   "metadata": {},
   "outputs": [
    {
     "name": "stdout",
     "output_type": "stream",
     "text": [
      "[  3.02706553e-06  -2.80894106e-03   2.48058233e+00  -6.31401099e+00]\n"
     ]
    }
   ],
   "source": [
    "print(eyf)"
   ]
  },
  {
   "cell_type": "code",
   "execution_count": 67,
   "metadata": {},
   "outputs": [],
   "source": [
    "ls = np.arange(0,360,1) # regular grid of Ls values\n",
    "sol = np.polyval(eyf, ls) # use polynomial function to find sol values"
   ]
  },
  {
   "cell_type": "code",
   "execution_count": 68,
   "metadata": {},
   "outputs": [
    {
     "data": {
      "text/plain": [
       "(Text(0.5,0,'$\\\\mathrm{L_s}$'), Text(0,0.5,'Sol'))"
      ]
     },
     "execution_count": 68,
     "metadata": {},
     "output_type": "execute_result"
    },
    {
     "data": {
      "image/png": "[encoded data removed]",
      "text/plain": [
       "<matplotlib.figure.Figure at 0x110310b70>"
      ]
     },
     "metadata": {},
     "output_type": "display_data"
    }
   ],
   "source": [
    "plt.plot(ey, ey2, '+')\n",
    "plt.plot(ls, sol, '-')\n",
    "plt.xlabel('$\\mathrm{L_s}$'), plt.ylabel('Sol')"
   ]
  },
  {
   "cell_type": "code",
   "execution_count": 69,
   "metadata": {},
   "outputs": [
    {
     "data": {
      "text/plain": [
       "(Text(0.5,0,'$\\\\mathrm{L_s}$'), Text(0,0.5,'$\\\\Delta(\\\\mathrm{Sol})$ Error'))"
      ]
     },
     "execution_count": 69,
     "metadata": {},
     "output_type": "execute_result"
    },
    {
     "data": {
      "image/png": "[encoded data removed]",
      "text/plain": [
       "<matplotlib.figure.Figure at 0x1107c5ba8>"
      ]
     },
     "metadata": {},
     "output_type": "display_data"
    }
   ],
   "source": [
    "# Plot difference between fit and data\n",
    "plt.plot(ey, np.polyval(eyf, ey)-ey2, 'x')\n",
    "plt.plot(ls, ls*0, '--k')\n",
    "plt.xlabel('$\\mathrm{L_s}$'), plt.ylabel('$\\Delta(\\mathrm{Sol})$ Error')"
   ]
  },
  {
   "cell_type": "code",
   "execution_count": 70,
   "metadata": {},
   "outputs": [],
   "source": [
    "# Function: ls2sol\n",
    "# Purpose: convert Mars \"Lsubs\" to sol (day of year)\n",
    "# Input: \n",
    "#    ls = areocentric longitude of the Sun [array]\n",
    "#    n = degree of polynomial fit [scalar]\n",
    "def ls2sol(ls, n):\n",
    "    # data\n",
    "    lsdata = (0,30,60,90,120,150,180,210,240,270,300,330,360) # L_s array\n",
    "    soldata = (0,61.2,126.6,193.3,257.8,317.5,371.9,421.6,468.5,514.6,562.0,612.9,668.6) # Sol array\n",
    "    \n",
    "    # polynomial fit\n",
    "    p = np.polyfit(lsdata, soldata, n)\n",
    "    \n",
    "    # sol for Ls input\n",
    "    sol = np.polyval(p, ls)\n",
    "    \n",
    "    # return result\n",
    "    return sol\n",
    "    "
   ]
  },
  {
   "cell_type": "code",
   "execution_count": 84,
   "metadata": {},
   "outputs": [
    {
     "name": "stdout",
     "output_type": "stream",
     "text": [
      "n = 3, max. error = 6.46,           RMS error = 1.18\n",
      "n = 4, max. error = 1.51,           RMS error = 0.25\n",
      "n = 5, max. error = 0.60,           RMS error = 0.07\n",
      "n = 6, max. error = 0.23,           RMS error = 0.04\n",
      "n = 7, max. error = 0.09,           RMS error = 0.01\n",
      "n = 8, max. error = 0.03,           RMS error = 0.01\n"
     ]
    },
    {
     "data": {
      "text/plain": [
       "(Text(0.5,0,'$\\\\mathrm{L_s}$'), Text(0,0.5,'$\\\\Delta(\\\\mathrm{Sol})$ Error'))"
      ]
     },
     "execution_count": 84,
     "metadata": {},
     "output_type": "execute_result"
    },
    {
     "data": {
      "image/png": "[encoded data removed]",
      "text/plain": [
       "<matplotlib.figure.Figure at 0x111b6ec18>"
      ]
     },
     "metadata": {},
     "output_type": "display_data"
    }
   ],
   "source": [
    "# Test to find minimum n-value\n",
    "for n in np.arange(3,8.01,1):\n",
    "    sol = ls2sol(ey, n)\n",
    "    plt.plot(ey, sol-ey2, 'x') # Difference of fit from data\n",
    "    # print RMS and max. error\n",
    "    print('n = {:d}, max. error = {:.2f}, \\\n",
    "          RMS error = {:.2f}'.format(np.int(n), \\\n",
    "                                     np.max(np.abs(sol-ey2)), \\\n",
    "                                     np.sqrt(np.sum( (sol-ey2)**2 ))/np.size(sol) ) )\n",
    "\n",
    "plt.plot(ls, ls*0, '--k')\n",
    "plt.xlabel('$\\mathrm{L_s}$'), plt.ylabel('$\\Delta(\\mathrm{Sol})$ Error')"
   ]
  }
 ],
 "metadata": {
  "kernelspec": {
   "display_name": "Python 3",
   "language": "python",
   "name": "python3"
  },
  "language_info": {
   "codemirror_mode": {
    "name": "ipython",
    "version": 3
   },
   "file_extension": ".py",
   "mimetype": "text/x-python",
   "name": "python",
   "nbconvert_exporter": "python",
   "pygments_lexer": "ipython3",
   "version": "3.6.3"
  }
 },
 "nbformat": 4,
 "nbformat_minor": 2
}
