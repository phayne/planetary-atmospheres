{
 "cells": [
  {
   "cell_type": "markdown",
   "metadata": {},
   "source": [
    "### Holding onto an Atmosphere: Thermal (Jeans) Escape\n",
    "\n",
    "The basic idea is that gas molecules with high enough temperature can escape from a planet's gravity well. One way to think about it is that an individual molecule's kinetic energy must exceed the change in potential energy in moving the molecule from radius $R$ to an infinite distance away:\n",
    "\n",
    "\\begin{align}\n",
    "    \\mathrm{(Kinetic~Energy)} &> \\mathrm{(Change~in~Potential~Energy)} \\\\\n",
    "    \\\\\n",
    "    \\frac{1}{2}mv^2 &> \\frac{GMm}{R}\n",
    "\\end{align}\n",
    "\n",
    "When these two quantities are exactly equal, the molecule has achieved the *escape velocity*,\n",
    "\n",
    "\\begin{equation}\n",
    "    v_\\mathrm{esc} = \\sqrt{\\frac{2GM}{R}}\n",
    "\\end{equation}\n",
    "\n",
    "So, any molecule with a velocity $v > v_\\mathrm{esc}$ will have enough energy to fly off to infinity.\n",
    "\n",
    "What determines the velocity of molecules in an atmosphere? Temperature! From statistical mechanics, the velocity distribution of a gas at temperature $T$ is given by the Maxwell-Boltzmann distribution function:\n",
    "\n",
    "\\begin{align}\n",
    "    f(v) &= \\left(\\frac{m}{2\\pi k T}\\right)^{3/2}4\\pi v^2 e^{\\frac{-mv^2}{2kT}} \\\\\n",
    "\\end{align}\n",
    "\n",
    "---\n",
    "\n",
    "Gravitational energy must be overcome by thermal energy:  \n",
    "\n",
    "\\begin{align}\n",
    "    E_\\mathrm{therm} &> E_\\mathrm{grav} \\\\\n",
    "    \\\\\n",
    "    \\frac{3}{2}kT &> \\frac{GMm}{R}\n",
    "\\end{align}\n",
    "\n",
    "Defining the *escape parameter*,  \n",
    "\n",
    "\\begin{equation}\n",
    "    \\lambda \\equiv \\frac{E_\\mathrm{grav}}{E_\\mathrm{therm}} \\sim \\frac{mgR}{kT},\n",
    "\\end{equation}\n",
    "\n",
    "the criterion is $\\lambda \\gg 1$ to retain the constituent with mass $m$ and temperature $T$. In the high-temperature tail of the Maxwell distribution, we see that\n",
    "\n",
    "\\begin{align}\n",
    "    f(v) &\\sim e^{-\\lambda}\n",
    "\\end{align}\n",
    "\n",
    "such that the probability of escape is exponentially dependent on the escape parameter. Some results for the planets are calculated below."
   ]
  },
  {
   "cell_type": "code",
   "execution_count": 3,
   "metadata": {},
   "outputs": [],
   "source": [
    "import planets\n",
    "import planetThermo\n",
    "import numpy as np\n",
    "import matplotlib.pyplot as plt\n",
    "import prettyPlots as pp\n",
    "\n",
    "pp.setStyle()"
   ]
  },
  {
   "cell_type": "code",
   "execution_count": 4,
   "metadata": {},
   "outputs": [],
   "source": [
    "Moon = planets.Moon\n",
    "Mercury = planets.Mercury\n",
    "Mars = planets.Mars\n",
    "Earth = planets.Earth\n",
    "Venus = planets.Venus\n",
    "Ganymede = planets.Ganymede\n",
    "Europa = planets.Europa\n",
    "Titan = planets.Titan"
   ]
  },
  {
   "cell_type": "code",
   "execution_count": 5,
   "metadata": {},
   "outputs": [],
   "source": [
    "G = planets.G\n",
    "k = planetThermo.k_B"
   ]
  },
  {
   "cell_type": "code",
   "execution_count": 6,
   "metadata": {},
   "outputs": [],
   "source": [
    "m_H2O = planetThermo.m_h2o\n",
    "m_H = planetThermo.mp\n",
    "m_CO2 = m_H * 44\n",
    "m_N2 = m_H * 28"
   ]
  },
  {
   "cell_type": "code",
   "execution_count": 7,
   "metadata": {},
   "outputs": [],
   "source": [
    "m = m_H\n",
    "E_Moon = m*Moon.g*Moon.R\n",
    "E_Mercury = m*Mercury.g*Mercury.R\n",
    "E_Venus = m*Venus.g*Venus.R\n",
    "E_Earth = m*Earth.g*Earth.R\n",
    "E_Mars = m*Mars.g*Mars.R\n",
    "E_Europa = m*Europa.g*Europa.R\n",
    "E_Ganymede = m*Ganymede.g*Ganymede.R\n",
    "E_Titan = m*Titan.g*Titan.R\n",
    "lambda_Moon = E_Moon/(k*Moon.Teq())\n",
    "lambda_Mercury = E_Mercury/(k*Mercury.Teq())\n",
    "lambda_Venus = E_Venus/(k*Venus.Teq())\n",
    "lambda_Earth = E_Earth/(k*Earth.Teq())\n",
    "lambda_Mars = E_Mars/(k*Mars.Teq())\n",
    "lambda_Europa = E_Europa/(k*Europa.Teq())\n",
    "lambda_Ganymede = E_Ganymede/(k*Ganymede.Teq())\n",
    "lambda_Titan = E_Titan/(k*Titan.Teq())"
   ]
  },
  {
   "cell_type": "code",
   "execution_count": 8,
   "metadata": {},
   "outputs": [
    {
     "name": "stdout",
     "output_type": "stream",
     "text": [
      "Temperature (K):\n",
      "[439.52093646344008, 234.67432668164099, 257.31359650970711, 273.05085165993046, 212.80867931793949, 99.739331362383979, 110.37971470174959, 85.699552448309106]\n",
      "\n",
      "Pressure (Pa):\n",
      "[1e-09, 93000.0, 101300.0, 3e-10, 632, 1e-07, 1e-06, 150000.0]\n",
      "\n",
      "E_esc:\n",
      "[1.5098376214e-20, 8.97842748316e-20, 1.044088068108e-19, 4.7076798888e-21, 2.103612294e-20, 3.41812536e-21, 6.292873157999999e-21, 5.814375750000001e-21]\n",
      "\n",
      "lambda_esc:\n",
      "[2.4880983522058004, 27.710959724122393, 29.389436956159457, 1.2487636746307744, 7.1596737353866819, 2.4822093222056187, 4.1293013588484984, 4.9140707932017174]\n",
      "\n",
      "P_esc = e**-lambda:\n",
      "[array([  8.30677821e-02,   9.23173020e-13,   1.72317626e-13,\n",
      "         2.86859229e-01,   7.77308120e-04,   8.35584141e-02,\n",
      "         1.60941189e-02,   7.34253746e-03])]\n",
      "85.6995524483\n"
     ]
    }
   ],
   "source": [
    "print('Temperature (K):')\n",
    "tsurf_data = [Mercury.Teq(), Venus.Teq(), Earth.Teq(), Moon.Teq(), Mars.Teq(), Europa.Teq(), Ganymede.Teq(), Titan.Teq()]\n",
    "print(tsurf_data)\n",
    "print('')\n",
    "print('Pressure (Pa):')\n",
    "psurf_data = [Mercury.psurf, Venus.psurf, Earth.psurf, Moon.psurf, Mars.psurf, Europa.psurf, Ganymede.psurf, Titan.psurf]\n",
    "print(psurf_data)\n",
    "print('')\n",
    "print('E_esc:')\n",
    "E_esc = [E_Mercury, E_Venus, E_Earth, E_Moon, E_Mars, E_Europa, E_Ganymede, E_Titan]\n",
    "print(E_esc)\n",
    "print('')\n",
    "print('lambda_esc:')\n",
    "lambda_esc = [lambda_Mercury, lambda_Venus, lambda_Earth, lambda_Moon, lambda_Mars, lambda_Europa, lambda_Ganymede, lambda_Titan]\n",
    "print(lambda_esc)\n",
    "print('')\n",
    "print('P_esc = e**-lambda:')\n",
    "P_esc = [np.exp([-lambda_Mercury, -lambda_Venus, -lambda_Earth, -lambda_Moon, -lambda_Mars, -lambda_Europa, -lambda_Ganymede, -lambda_Titan])]\n",
    "print(P_esc)\n",
    "print(Titan.Teq())"
   ]
  },
  {
   "cell_type": "code",
   "execution_count": 10,
   "metadata": {},
   "outputs": [
    {
     "data": {
      "image/png": "[encoded data removed]",
      "text/plain": [
       "<Figure size 432x288 with 1 Axes>"
      ]
     },
     "metadata": {},
     "output_type": "display_data"
    }
   ],
   "source": [
    "plt.loglog(lambda_esc, psurf_data, 'o')\n",
    "plt.xlim([1, 50])\n",
    "plt.ylim([1e-12, 1e8])\n",
    "plt.xlabel('Escape Parameter, $\\lambda_\\mathrm{esc}$')\n",
    "plt.ylabel('Surface Pressure, $p_\\mathrm{0}$ (Pa)')\n",
    "plt.text(lambda_Mercury*1.1, Mercury.psurf*1.1, 'Mercury')\n",
    "plt.text(lambda_Venus*0.7, Venus.psurf*0.9, 'Venus')\n",
    "plt.text(lambda_Earth*1.1, Earth.psurf*1.1, 'Earth')\n",
    "plt.text(lambda_Mars*1.1, Mars.psurf*1.1, 'Mars')\n",
    "plt.text(lambda_Moon*1.1, Moon.psurf*1.1, 'Moon')\n",
    "plt.text(lambda_Europa*1.1, Europa.psurf*1.1, 'Europa')\n",
    "plt.text(lambda_Ganymede*1.1, Ganymede.psurf*1.1, 'Ganymede')\n",
    "plt.text(lambda_Titan*1.1, Titan.psurf*1.1, 'Titan')\n",
    "plt.savefig('./escape_parameter_data.pdf', transparent=True, bbox_inches='tight')\n",
    "plt.show()"
   ]
  },
  {
   "cell_type": "code",
   "execution_count": 28,
   "metadata": {},
   "outputs": [],
   "source": [
    "T1 = 300.0\n",
    "T2 = 500.0\n",
    "v = np.linspace(0,8e3,100)\n",
    "f1 = (m_H/(2*np.pi*k*T1))**(3/2) * 4*np.pi*v**2 * np.exp(-m_H*v**2/(2*k*T1))\n",
    "f2 = (m_H/(2*np.pi*k*T2))**(3/2) * 4*np.pi*v**2 * np.exp(-m_H*v**2/(2*k*T2))"
   ]
  },
  {
   "cell_type": "code",
   "execution_count": 29,
   "metadata": {},
   "outputs": [
    {
     "data": {
      "image/png": "[encoded data removed]",
      "text/plain": [
       "<Figure size 432x288 with 1 Axes>"
      ]
     },
     "metadata": {},
     "output_type": "display_data"
    }
   ],
   "source": [
    "plt.plot(v, f1/np.sum(f1), label='$T = 300~$K')\n",
    "plt.plot(v, f2/np.sum(f2), label='$T = 500~$K')\n",
    "plt.legend(frameon=False)\n",
    "plt.ylim([0,1.1*np.max(f1/np.sum(f1))])\n",
    "plt.xlim([0,np.max(v)])\n",
    "plt.xlabel('Velocity (m s$^{-1}$)')\n",
    "plt.ylabel('PDF')\n",
    "plt.savefig('./M-B_Distribution1.pdf',bbox_inches='tight')\n",
    "plt.show()"
   ]
  },
  {
   "cell_type": "code",
   "execution_count": null,
   "metadata": {},
   "outputs": [],
   "source": []
  }
 ],
 "metadata": {
  "kernelspec": {
   "display_name": "Python 3",
   "language": "python",
   "name": "python3"
  },
  "language_info": {
   "codemirror_mode": {
    "name": "ipython",
    "version": 3
   },
   "file_extension": ".py",
   "mimetype": "text/x-python",
   "name": "python",
   "nbconvert_exporter": "python",
   "pygments_lexer": "ipython3",
   "version": "3.6.4"
  }
 },
 "nbformat": 4,
 "nbformat_minor": 2
}
